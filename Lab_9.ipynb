{
  "cells": [
    {
      "cell_type": "markdown",
      "metadata": {
        "id": "view-in-github",
        "colab_type": "text"
      },
      "source": [
        "<a href=\"https://colab.research.google.com/github/Gabriel-Kelvin184/Python/blob/main/Lab_9.ipynb\" target=\"_parent\"><img src=\"https://colab.research.google.com/assets/colab-badge.svg\" alt=\"Open In Colab\"/></a>"
      ]
    },
    {
      "cell_type": "markdown",
      "source": [
        "1. Write a program to distinguish between Array Indexing and Fancy Indexing.\n"
      ],
      "metadata": {
        "id": "Hw7KdgCTFcwP"
      }
    },
    {
      "cell_type": "code",
      "source": [
        "import numpy as np\n",
        "\n",
        "def is_array_indexing(array, index):\n",
        "\n",
        "  if len(index) != array.ndim:\n",
        "    return False\n",
        "\n",
        "  for i, idx in enumerate(index):\n",
        "    if not isinstance(idx, int):\n",
        "      return False\n",
        "\n",
        "    if idx < 0 or idx >= array.shape[i]:\n",
        "      return False\n",
        "  return True\n",
        "\n",
        "def is_fancy_indexing(array, index):\n",
        "  return not is_array_indexing(array, index)\n",
        "\n",
        "array = np.array([[1, 2, 3], [4, 5, 6]])\n",
        "\n",
        "index = (0, 1)\n",
        "print(is_array_indexing(array, index))\n",
        "\n",
        "index = (0, [0, 2])\n",
        "print(is_fancy_indexing(array, index))"
      ],
      "outputs": [
        {
          "output_type": "stream",
          "name": "stdout",
          "text": [
            "True\n",
            "True\n"
          ]
        }
      ],
      "execution_count": null,
      "metadata": {
        "colab": {
          "base_uri": "https://localhost:8080/"
        },
        "id": "ovpUl3udFGd5",
        "outputId": "04c4d8c5-3a3c-439b-8ee8-64ae5037b7f2"
      }
    },
    {
      "cell_type": "markdown",
      "source": [
        "2. Execute the 2D array Slicing."
      ],
      "metadata": {
        "id": "UKcASa2zINfB"
      }
    },
    {
      "cell_type": "code",
      "source": [
        "import numpy as np\n",
        "\n",
        "array = np.array([[1, 2, 3], [4, 5, 6], [7, 8, 9]])\n",
        "\n",
        "sliced_array = array[:2]\n",
        "\n",
        "print(sliced_array)"
      ],
      "metadata": {
        "colab": {
          "base_uri": "https://localhost:8080/"
        },
        "id": "go1fZwGNIRoW",
        "outputId": "73829898-13d1-404d-c37a-85f9efebd7f0"
      },
      "execution_count": null,
      "outputs": [
        {
          "output_type": "stream",
          "name": "stdout",
          "text": [
            "[[1 2 3]\n",
            " [4 5 6]]\n"
          ]
        }
      ]
    },
    {
      "cell_type": "markdown",
      "source": [
        "3. Create the 5-Dimensional arrays using ‘ndmin’."
      ],
      "metadata": {
        "id": "3CyE8ztmI8-X"
      }
    },
    {
      "cell_type": "code",
      "source": [
        "import numpy as np\n",
        "\n",
        "array = np.array([1, 2, 3, 4, 5])\n",
        "\n",
        "five_d_array = np.array(array, ndmin=5)\n",
        "\n",
        "print(five_d_array)"
      ],
      "metadata": {
        "colab": {
          "base_uri": "https://localhost:8080/"
        },
        "id": "Y1foxTd5JI9a",
        "outputId": "eacd0599-7a83-4838-c119-f873429564a6"
      },
      "execution_count": null,
      "outputs": [
        {
          "output_type": "stream",
          "name": "stdout",
          "text": [
            "[[[[[1 2 3 4 5]]]]]\n"
          ]
        }
      ]
    },
    {
      "cell_type": "markdown",
      "source": [
        "4. Reshape the array from 1-D to 2-D array."
      ],
      "metadata": {
        "id": "na87Dv7JKH7c"
      }
    },
    {
      "cell_type": "code",
      "source": [
        "import numpy as np\n",
        "\n",
        "array = np.array([1, 2, 3, 4, 5, 6, 7, 8, 9])\n",
        "\n",
        "reshaped_array = array.reshape((3, 3))\n",
        "\n",
        "print(reshaped_array)\n"
      ],
      "metadata": {
        "colab": {
          "base_uri": "https://localhost:8080/"
        },
        "id": "zhD0f8FmKJt8",
        "outputId": "39168890-1104-435c-a5b8-80014a4b9e25"
      },
      "execution_count": null,
      "outputs": [
        {
          "output_type": "stream",
          "name": "stdout",
          "text": [
            "[[1 2 3]\n",
            " [4 5 6]\n",
            " [7 8 9]]\n"
          ]
        }
      ]
    },
    {
      "cell_type": "markdown",
      "source": [
        "5. Perform the Stack functions in Numpy arrays – Stack(), hstack(), vstack(), and dstack()."
      ],
      "metadata": {
        "id": "A7DDu8pmLt58"
      }
    },
    {
      "cell_type": "code",
      "source": [
        "import numpy as np\n",
        "\n",
        "array1 = np.array([1, 2, 3])\n",
        "array2 = np.array([4, 5, 6])\n",
        "\n",
        "stacked_array = np.stack([array1, array2])\n",
        "\n",
        "hstacked_array = np.hstack([array1, array2])\n",
        "\n",
        "vstacked_array = np.vstack([array1, array2])\n",
        "\n",
        "dstacked_array = np.dstack([array1, array2])\n",
        "\n",
        "print(stacked_array)\n",
        "print(hstacked_array)\n",
        "print(vstacked_array)\n",
        "print(dstacked_array)"
      ],
      "metadata": {
        "colab": {
          "base_uri": "https://localhost:8080/"
        },
        "id": "tsFVDUXWMCQ7",
        "outputId": "712d8631-3400-4ba2-9ff3-aded682c4a9c"
      },
      "execution_count": null,
      "outputs": [
        {
          "output_type": "stream",
          "name": "stdout",
          "text": [
            "[[1 2 3]\n",
            " [4 5 6]]\n",
            "[1 2 3 4 5 6]\n",
            "[[1 2 3]\n",
            " [4 5 6]]\n",
            "[[[1 4]\n",
            "  [2 5]\n",
            "  [3 6]]]\n"
          ]
        }
      ]
    },
    {
      "cell_type": "markdown",
      "source": [
        "6. Perform the searchsort method in Numpy array."
      ],
      "metadata": {
        "id": "MN30QC99OIUd"
      }
    },
    {
      "cell_type": "code",
      "source": [
        "import numpy as np\n",
        "\n",
        "array = np.array([1, 2, 3, 4, 5, 6, 7, 8, 9])\n",
        "value = 6\n",
        "\n",
        "index = np.searchsorted(array, value)\n",
        "\n",
        "print(f\"The index where the value {value} would be inserted is {index}\")"
      ],
      "metadata": {
        "colab": {
          "base_uri": "https://localhost:8080/"
        },
        "id": "3RdWHN6bOMRi",
        "outputId": "86c0314f-fc09-4e01-dc09-5a7e01c48686"
      },
      "execution_count": null,
      "outputs": [
        {
          "output_type": "stream",
          "name": "stdout",
          "text": [
            "The index where the value 6 would be inserted is 5\n"
          ]
        }
      ]
    },
    {
      "cell_type": "markdown",
      "source": [
        "7. Create Numpy Structured array using your domain features."
      ],
      "metadata": {
        "id": "YR4qtTURPOHj"
      }
    },
    {
      "cell_type": "code",
      "source": [
        "import numpy as np\n",
        "\n",
        "features = [\"stock\", \"price\"]\n",
        "dtype = np.dtype([('stock', 'U10'), ('price', 'i4')])\n",
        "\n",
        "array = np.array([\n",
        "    ('Tesla', 22),\n",
        "    ('Wipro', 25),\n",
        "    ('Infosys', 23)\n",
        "], dtype=dtype)\n",
        "\n",
        "print(array)\n"
      ],
      "metadata": {
        "colab": {
          "base_uri": "https://localhost:8080/"
        },
        "id": "ZdA-Nz9xPQcm",
        "outputId": "33ba99db-1ee6-4aa8-a616-c9da598f2e50"
      },
      "execution_count": null,
      "outputs": [
        {
          "output_type": "stream",
          "name": "stdout",
          "text": [
            "[('Tesla', 22) ('Wipro', 25) ('Infosys', 23)]\n"
          ]
        }
      ]
    },
    {
      "cell_type": "markdown",
      "source": [
        "8. Create Data frame using List and Dictionary.\n"
      ],
      "metadata": {
        "id": "aKq0dX0ySyS9"
      }
    },
    {
      "cell_type": "code",
      "source": [
        "import pandas as pd\n",
        "\n",
        "student_records = [\n",
        "    {\n",
        "        \"name\": \"Luffy\",\n",
        "        \"age\": 21,\n",
        "        \"gpa\": 3.5\n",
        "    },\n",
        "    {\n",
        "        \"name\": \"Zoro\",\n",
        "        \"age\": 25,\n",
        "        \"gpa\": 3.75\n",
        "    },\n",
        "    {\n",
        "        \"name\": \"Sanji\",\n",
        "        \"age\": 22,\n",
        "        \"gpa\": 3.25\n",
        "    }\n",
        "]\n",
        "\n",
        "df = pd.DataFrame(student_records)\n",
        "print(df)\n"
      ],
      "metadata": {
        "colab": {
          "base_uri": "https://localhost:8080/"
        },
        "id": "ULRir7RaUX-I",
        "outputId": "120e0897-c210-40b0-b192-113c8e7fdbfc"
      },
      "execution_count": null,
      "outputs": [
        {
          "output_type": "stream",
          "name": "stdout",
          "text": [
            "    name  age   gpa\n",
            "0  Alice   25  3.50\n",
            "1    Bob   30  3.75\n",
            "2  Carol   28  3.25\n"
          ]
        }
      ]
    },
    {
      "cell_type": "markdown",
      "source": [
        "9. Create Data frame on your Domain area and perform the following operations to find and eliminate the\n",
        "missing data from the dataset.\n",
        "• isnull()\n",
        "• notnull()\n",
        "• dropna()\n",
        "• fillna()\n",
        "• replace()\n",
        "• interpolate()"
      ],
      "metadata": {
        "id": "y2cyQ-Q3VOlK"
      }
    },
    {
      "cell_type": "code",
      "source": [
        "import pandas as pd\n",
        "\n",
        "# Create a list of dictionaries\n",
        "domain_records = [\n",
        "    {\n",
        "        \"feature1\": \"value1\",\n",
        "        \"feature2\": 20,\n",
        "        \"feature3\": 30.5\n",
        "    },\n",
        "    {\n",
        "        \"feature1\": \"value2\",\n",
        "        \"feature2\": None,\n",
        "        \"feature3\": 40\n",
        "    },\n",
        "    {\n",
        "        \"feature1\": \"value3\",\n",
        "        \"feature2\": 50,\n",
        "        \"feature3\": None\n",
        "    }\n",
        "]\n",
        "\n",
        "# Create a DataFrame from the list of dictionaries\n",
        "df = pd.DataFrame(domain_records)\n",
        "\n",
        "# Find missing values\n",
        "missing_values = df.isnull().sum()\n",
        "\n",
        "# Eliminate missing values\n",
        "if missing_values.sum() > 0:\n",
        "    # Drop rows with missing values\n",
        "    df = df.dropna()\n",
        "\n",
        "    # Fill in missing values with mean\n",
        "    df = df.fillna(method=\"mean\")\n",
        "\n",
        "    # Replace \"None\" with 0\n",
        "    df = df.replace(\"None\", 0)\n",
        "\n",
        "    # Interpolate missing values\n",
        "    df = df.interpolate()\n",
        "\n",
        "print(df)\n"
      ],
      "metadata": {
        "id": "Yo5lf-YCVRjE"
      },
      "execution_count": null,
      "outputs": []
    },
    {
      "cell_type": "markdown",
      "source": [
        "10. Perform the Hierarchical Indexing in the above created dataset."
      ],
      "metadata": {
        "id": "ZGjApYgWV6qw"
      }
    },
    {
      "cell_type": "code",
      "source": [
        "import pandas as pd\n",
        "\n",
        "# Create a list of dictionaries\n",
        "domain_records = [\n",
        "    {\n",
        "        \"feature1\": \"value1\",\n",
        "        \"feature2\": 20,\n",
        "        \"feature3\": 30.5\n",
        "    },\n",
        "    {\n",
        "        \"feature1\": \"value2\",\n",
        "        \"feature2\": None,\n",
        "        \"feature3\": 40\n",
        "    },\n",
        "    {\n",
        "        \"feature1\": \"value3\",\n",
        "        \"feature2\": 50,\n",
        "        \"feature3\": None\n",
        "    }\n",
        "]\n",
        "\n",
        "# Create a DataFrame from the list of dictionaries\n",
        "df = pd.DataFrame(domain_records)\n",
        "\n",
        "# Perform hierarchical indexing\n",
        "df = df.set_index([\"feature1\", \"feature2\"])\n",
        "\n",
        "# Print the DataFrame\n",
        "print(df)\n"
      ],
      "metadata": {
        "colab": {
          "base_uri": "https://localhost:8080/"
        },
        "id": "8RZ9emkJWDS6",
        "outputId": "d5f86972-e53c-40ac-fd3f-6e2129c570ec"
      },
      "execution_count": null,
      "outputs": [
        {
          "output_type": "stream",
          "name": "stdout",
          "text": [
            "                   feature3\n",
            "feature1 feature2          \n",
            "value1   20.0          30.5\n",
            "value2   NaN           40.0\n",
            "value3   50.0           NaN\n"
          ]
        }
      ]
    }
  ],
  "metadata": {
    "colab": {
      "provenance": [],
      "include_colab_link": true
    },
    "kernelspec": {
      "display_name": "Python 3",
      "name": "python3"
    }
  },
  "nbformat": 4,
  "nbformat_minor": 0
}