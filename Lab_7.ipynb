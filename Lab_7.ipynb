{
  "cells": [
    {
      "cell_type": "markdown",
      "metadata": {
        "id": "view-in-github",
        "colab_type": "text"
      },
      "source": [
        "<a href=\"https://colab.research.google.com/github/Gabriel-Kelvin184/Python/blob/main/Lab_7.ipynb\" target=\"_parent\"><img src=\"https://colab.research.google.com/assets/colab-badge.svg\" alt=\"Open In Colab\"/></a>"
      ]
    },
    {
      "cell_type": "markdown",
      "source": [
        "Q1. Create two 3×3 matrices using the random function in Numpy and perform the following operations.\n",
        "Product (prod)\n",
        "Multiplication (multiply)\n",
        "Dot Product (dot)"
      ],
      "metadata": {
        "id": "HLCFhjonnS7z"
      }
    },
    {
      "cell_type": "code",
      "source": [
        "import numpy as np\n",
        "\n",
        "A = np.random.randint(0, 10, size=(3, 3))\n",
        "B = np.random.randint(0, 10, size=(3, 3))\n",
        "\n",
        "print('Matrix A:')\n",
        "print(A)\n",
        "print('Matrix B:')\n",
        "print(B)\n",
        "\n",
        "product = np.prod(A * B)\n",
        "print('Product of matrices A and B:')\n",
        "print(product)\n",
        "\n",
        "multiplication = A * B\n",
        "print('Multiplication of matrices A and B:')\n",
        "print(multiplication)\n",
        "\n",
        "dot_product = np.dot(A, B)\n",
        "print('Dot product of matrices A and B:')\n",
        "print(dot_product)\n"
      ],
      "outputs": [
        {
          "output_type": "stream",
          "name": "stdout",
          "text": [
            "Matrix A:\n",
            "[[9 5 2]\n",
            " [9 7 3]\n",
            " [3 4 0]]\n",
            "Matrix B:\n",
            "[[0 3 3]\n",
            " [6 4 6]\n",
            " [2 7 4]]\n",
            "Product of matrices A and B:\n",
            "0\n",
            "Multiplication of matrices A and B:\n",
            "[[ 0 15  6]\n",
            " [54 28 18]\n",
            " [ 6 28  0]]\n",
            "Dot product of matrices A and B:\n",
            "[[34 61 65]\n",
            " [48 76 81]\n",
            " [24 25 33]]\n"
          ]
        }
      ],
      "execution_count": 6,
      "metadata": {
        "colab": {
          "base_uri": "https://localhost:8080/"
        },
        "id": "_-XlhShUXYj6",
        "outputId": "fceace98-63bf-4784-b58d-a80c4cd01641"
      }
    },
    {
      "cell_type": "markdown",
      "source": [
        "Q2. Perform the following set operations using the Numpy functions.\n",
        "Union\n",
        "Intersection\n",
        "Set difference\n",
        "XOR"
      ],
      "metadata": {
        "id": "OjhGCRKineHU"
      }
    },
    {
      "cell_type": "code",
      "source": [
        "import numpy as np\n",
        "\n",
        "set_a = np.array([1, 2, 3, 4, 5])\n",
        "set_b = np.array([3, 4, 5, 6, 7])\n",
        "\n",
        "union = np.union1d(set_a, set_b)\n",
        "print('Union of set_a and set_b:')\n",
        "print(union)\n",
        "\n",
        "intersection = np.intersect1d(set_a, set_b)\n",
        "print('Intersection of set_a and set_b:')\n",
        "print(intersection)\n",
        "\n",
        "difference = np.setdiff1d(set_a, set_b)\n",
        "print('Difference of set_a and set_b:')\n",
        "print(difference)\n",
        "\n",
        "xor = np.setxor1d(set_a, set_b)\n",
        "print('XOR of set_a and set_b:')\n",
        "print(xor)"
      ],
      "metadata": {
        "colab": {
          "base_uri": "https://localhost:8080/"
        },
        "id": "EErQYQuxY6oo",
        "outputId": "b6d3745a-5787-4fe9-ec95-2c3b4d9fe5b5"
      },
      "execution_count": 2,
      "outputs": [
        {
          "output_type": "stream",
          "name": "stdout",
          "text": [
            "Union of set_a and set_b:\n",
            "[1 2 3 4 5 6 7]\n",
            "Intersection of set_a and set_b:\n",
            "[3 4 5]\n",
            "Difference of set_a and set_b:\n",
            "[1 2]\n",
            "XOR of set_a and set_b:\n",
            "[1 2 6 7]\n"
          ]
        }
      ]
    },
    {
      "cell_type": "markdown",
      "source": [
        "Q3. Create a 1D array using Random function and perform the following operations.\n",
        "Cumulative sum\n",
        "Cumulative Product\n",
        "Discrete difference (with n=3)\n",
        "Find the unique elements from the array"
      ],
      "metadata": {
        "id": "67sJVyJrnoVE"
      }
    },
    {
      "cell_type": "code",
      "source": [
        "import random\n",
        "\n",
        "array = [random.randint(1, 100) for i in range(10)]\n",
        "print(\"Original array:\")\n",
        "print(array)\n",
        "\n",
        "cumulative_sum = []\n",
        "for i in range(len(array)):\n",
        "    if i == 0:\n",
        "        cumulative_sum.append(array[i])\n",
        "    else:\n",
        "        cumulative_sum.append(cumulative_sum[i - 1] + array[i])\n",
        "\n",
        "print(\"Cumulative sum of the array:\")\n",
        "print(cumulative_sum)\n",
        "\n",
        "cumulative_product = []\n",
        "for i in range(len(array)):\n",
        "    if i == 0:\n",
        "        cumulative_product.append(array[i])\n",
        "    else:\n",
        "        cumulative_product.append(cumulative_product[i - 1] * array[i])\n",
        "\n",
        "print(\"Cumulative product of the array:\")\n",
        "print(cumulative_product)\n",
        "\n",
        "discrete_difference = []\n",
        "for i in range(len(array) - 2):\n",
        "    discrete_difference.append(array[i + 2] - array[i])\n",
        "\n",
        "print(\"Discrete difference of the array (n=3):\")\n",
        "print(discrete_difference)\n",
        "\n",
        "unique_elements = set(array)\n",
        "print(\"Unique elements from the array:\")\n",
        "print(unique_elements)"
      ],
      "metadata": {
        "colab": {
          "base_uri": "https://localhost:8080/"
        },
        "id": "9WX1OuHYekUa",
        "outputId": "b64323f9-4781-431c-b910-5945f3d75d28"
      },
      "execution_count": 8,
      "outputs": [
        {
          "output_type": "stream",
          "name": "stdout",
          "text": [
            "Original array:\n",
            "[78, 33, 50, 37, 82, 93, 24, 36, 44, 90]\n",
            "Cumulative sum of the array:\n",
            "[78, 111, 161, 198, 280, 373, 397, 433, 477, 567]\n",
            "Cumulative product of the array:\n",
            "[78, 2574, 128700, 4761900, 390475800, 36314249400, 871541985600, 31375511481600, 1380522505190400, 124247025467136000]\n",
            "Discrete difference of the array (n=3):\n",
            "[-28, 4, 32, 56, -58, -57, 20, 54]\n",
            "Unique elements from the array:\n",
            "{33, 36, 37, 44, 78, 50, 82, 24, 90, 93}\n"
          ]
        }
      ]
    },
    {
      "cell_type": "markdown",
      "source": [
        "Q4. Create two 1D array and perform the Addition using zip(), add() and user defined function (frompyfunc())"
      ],
      "metadata": {
        "id": "xpMWSkTGnwYv"
      }
    },
    {
      "cell_type": "code",
      "source": [
        "import numpy as np\n",
        "\n",
        "array_1 = np.array([1, 2, 3, 4, 5])\n",
        "array_2 = np.array([6, 7, 8, 9, 10])\n",
        "\n",
        "addition_1 = []\n",
        "for i, j in zip(array_1, array_2):\n",
        "    addition_1.append(i + j)\n",
        "\n",
        "print(\"Addition using zip() and add():\")\n",
        "print(addition_1)\n",
        "\n",
        "def add_function(x, y):\n",
        "    return x + y\n",
        "\n",
        "addition_2 = np.vectorize(add_function)\n",
        "addition_2 = addition_2(array_1, array_2)\n",
        "\n",
        "print(\"Addition using user defined function:\")\n",
        "print(addition_2)\n"
      ],
      "metadata": {
        "colab": {
          "base_uri": "https://localhost:8080/"
        },
        "id": "w9BQFTPkhZbx",
        "outputId": "61b84569-990b-411a-ebd5-823c9620a02a"
      },
      "execution_count": 10,
      "outputs": [
        {
          "output_type": "stream",
          "name": "stdout",
          "text": [
            "Addition using zip() and add():\n",
            "[7, 9, 11, 13, 15]\n",
            "Addition using user defined function:\n",
            "[ 7  9 11 13 15]\n"
          ]
        }
      ]
    },
    {
      "cell_type": "markdown",
      "source": [
        "Q5. Find the LCM (Least Common Multiple) and GCD (Greatest Common Divisor) of an array of elements using reduce()."
      ],
      "metadata": {
        "id": "43z09JQJn00Q"
      }
    },
    {
      "cell_type": "code",
      "source": [
        "from functools import reduce\n",
        "\n",
        "def gcd(x, y):\n",
        "    while y:\n",
        "        x, y = y, x % y\n",
        "    return x\n",
        "\n",
        "def lcm(x, y):\n",
        "    return x * y // gcd(x, y)\n",
        "\n",
        "array = [10, 20, 30]\n",
        "lcm_array = reduce(lcm, array)\n",
        "gcd_array = reduce(gcd, array)\n",
        "\n",
        "print(\"The LCM of the array elements is:\", lcm_array)\n",
        "print(\"The GCD of the array elements is:\", gcd_array)\n"
      ],
      "metadata": {
        "colab": {
          "base_uri": "https://localhost:8080/"
        },
        "id": "OH01eb2qjKas",
        "outputId": "b8043e59-040f-471b-df28-af3ae469104b"
      },
      "execution_count": 14,
      "outputs": [
        {
          "output_type": "stream",
          "name": "stdout",
          "text": [
            "The LCM of the array elements is: 60\n",
            "The GCD of the array elements is: 10\n"
          ]
        }
      ]
    },
    {
      "cell_type": "markdown",
      "source": [],
      "metadata": {
        "id": "UFfR92MfnN98"
      }
    }
  ],
  "metadata": {
    "colab": {
      "provenance": [],
      "include_colab_link": true
    },
    "kernelspec": {
      "display_name": "Python 3",
      "name": "python3"
    }
  },
  "nbformat": 4,
  "nbformat_minor": 0
}